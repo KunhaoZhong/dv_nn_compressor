{
 "cells": [
  {
   "cell_type": "markdown",
   "id": "70b869d9-040e-4a62-bc74-6f35ecddf0e3",
   "metadata": {},
   "source": [
    "# Compressed directly to cosmo-parameters\n",
    "More realizations of the NDE"
   ]
  },
  {
   "cell_type": "code",
   "execution_count": 1,
   "id": "b4efa906-ccc2-4084-8b40-70ca76673c61",
   "metadata": {
    "tags": []
   },
   "outputs": [
    {
     "name": "stderr",
     "output_type": "stream",
     "text": [
      "2024-11-20 12:10:22.004856: E external/local_xla/xla/stream_executor/cuda/cuda_fft.cc:485] Unable to register cuFFT factory: Attempting to register factory for plugin cuFFT when one has already been registered\n",
      "2024-11-20 12:10:22.020908: E external/local_xla/xla/stream_executor/cuda/cuda_dnn.cc:8454] Unable to register cuDNN factory: Attempting to register factory for plugin cuDNN when one has already been registered\n",
      "2024-11-20 12:10:22.025737: E external/local_xla/xla/stream_executor/cuda/cuda_blas.cc:1452] Unable to register cuBLAS factory: Attempting to register factory for plugin cuBLAS when one has already been registered\n",
      "2024-11-20 12:10:22.039591: I tensorflow/core/platform/cpu_feature_guard.cc:210] This TensorFlow binary is optimized to use available CPU instructions in performance-critical operations.\n",
      "To enable the following instructions: AVX2 FMA, in other operations, rebuild TensorFlow with the appropriate compiler flags.\n",
      "2024-11-20 12:10:24.356109: W tensorflow/compiler/tf2tensorrt/utils/py_utils.cc:38] TF-TRT Warning: Could not find TensorRT\n"
     ]
    }
   ],
   "source": [
    "import numpy as np\n",
    "import sbi\n",
    "from sbi.inference import SNPE\n",
    "import getdist\n",
    "from getdist import plots, MCSamples\n",
    "import sys, pathlib, os, random\n",
    "import torch\n",
    "import matplotlib.pyplot as plt\n",
    "import scipy.stats as stats"
   ]
  },
  {
   "cell_type": "markdown",
   "id": "c98f4f96-6d54-4d85-afb5-93371acc8be0",
   "metadata": {},
   "source": [
    "# Load compressed dv and true paramters"
   ]
  },
  {
   "cell_type": "code",
   "execution_count": 7,
   "id": "1cf5da58-4563-42a7-9d02-78777aa1ac8f",
   "metadata": {
    "tags": []
   },
   "outputs": [],
   "source": [
    "compressed_dv_sims = np.load('../compression_NN/output/lfi_compressed_dv_regression.npy')\n",
    "compressed_dv_labels = np.load('../compression_NN/output/pars_LFI.npy')\n",
    "\n",
    "compressed_dv_fid  = np.load('../compression_NN/output/target_compressed_dv_regression.npy')\n",
    "\n",
    "compressed_dv_fid = compressed_dv_fid.reshape(-1,1).T"
   ]
  },
  {
   "cell_type": "code",
   "execution_count": 8,
   "id": "8da942e4-35b6-410d-beb9-05dd89b1a3da",
   "metadata": {
    "tags": []
   },
   "outputs": [],
   "source": [
    "# Only infer Omm and S8\n",
    "\n",
    "compressed_dv_labels = compressed_dv_labels[:,0:2]\n"
   ]
  },
  {
   "cell_type": "code",
   "execution_count": 9,
   "id": "c7e747b8-b200-4048-a25f-43d814d97cd7",
   "metadata": {
    "tags": []
   },
   "outputs": [
    {
     "data": {
      "text/plain": [
       "((8187, 3), (8187, 2), (1, 3))"
      ]
     },
     "execution_count": 9,
     "metadata": {},
     "output_type": "execute_result"
    }
   ],
   "source": [
    "# test\n",
    "compressed_dv_sims.shape, compressed_dv_labels.shape, compressed_dv_fid.shape"
   ]
  },
  {
   "cell_type": "code",
   "execution_count": 26,
   "id": "2d1d32b9-916d-477a-8519-5f35ecf295e3",
   "metadata": {
    "tags": []
   },
   "outputs": [],
   "source": [
    "def get_posterior_MCSamples(N_rel, compressed_dv_fid, compressed_dv_sims, compressed_dv_labels):\n",
    "    gd_samples = []\n",
    "\n",
    "\n",
    "    for _ in range(N_rel):\n",
    "        # define compressed data, parameters, and target (compressed)\n",
    "        x0 = compressed_dv_fid\n",
    "        p, l = compressed_dv_sims, compressed_dv_labels\n",
    "\n",
    "\n",
    "        prior = sbi.utils.BoxUniform(low=torch.tensor(np.min(l, axis=0)), \\\n",
    "            high=torch.tensor(np.max(l, axis=0)))\n",
    "        inference = SNPE(prior=prior, density_estimator=sbi.utils.posterior_nn(\\\n",
    "                        model='maf', hidden_features=50, num_transforms=4))\n",
    "        theta, x = torch.tensor(l).float(), torch.tensor(p).float()\n",
    "        density_estimator = inference.append_simulations(theta, x).train()\n",
    "        posterior = inference.build_posterior(density_estimator)\n",
    "\n",
    "        samples = posterior.sample((10000,), x=x0)\n",
    "\n",
    "        # # all 3\n",
    "        # gd_samples.append(MCSamples(samples=samples.numpy(), names=['Om', 'S8', 'A_IA'], \\\n",
    "        #     labels=['Om', 'S8', r'A_{IA}'], ranges={\"Om\": [np.min(l[:, 0]), np.max(l[:, 0])], \\\n",
    "        #         \"S8\": [np.min(l[:, 1]), np.max(l[:, 1])], \"A_IA\": [np.min(l[:, 2]), np.max(l[:, 2])]},\\\n",
    "        #         label='test'))\n",
    "        \n",
    "        # Om and S8\n",
    "        gd_samples.append(MCSamples(samples=samples.numpy(), names=['Om', 'S8'], \\\n",
    "            labels=['Om', 'S8'], ranges={\"Om\": [np.min(l[:, 0]), np.max(l[:, 0])], \\\n",
    "                \"S8\": [np.min(l[:, 1]), np.max(l[:, 1])]},\\\n",
    "                label='test',\\\n",
    "                settings={'smooth_scale_2D':0.45, 'smooth_scale_1D':0.45}))\n",
    "    return gd_samples"
   ]
  },
  {
   "cell_type": "code",
   "execution_count": 27,
   "id": "eef90f8a-a5cc-4d7e-8148-9e441dc8ee82",
   "metadata": {
    "tags": []
   },
   "outputs": [
    {
     "name": "stderr",
     "output_type": "stream",
     "text": [
      "/tmp/ipykernel_2090690/3272933811.py:13: DeprecationWarning: This method is deprecated and will be removed in a future release.Please use `from sbi.neural_nets import posterior_nn` in the future.\n",
      "  inference = SNPE(prior=prior, density_estimator=sbi.utils.posterior_nn(\\\n"
     ]
    },
    {
     "name": "stdout",
     "output_type": "stream",
     "text": [
      " Neural network successfully converged after 56 epochs."
     ]
    },
    {
     "data": {
      "application/vnd.jupyter.widget-view+json": {
       "model_id": "a146d0679ab84c45bd4ac42404bac760",
       "version_major": 2,
       "version_minor": 0
      },
      "text/plain": [
       "Drawing 10000 posterior samples:   0%|          | 0/10000 [00:00<?, ?it/s]"
      ]
     },
     "metadata": {},
     "output_type": "display_data"
    },
    {
     "name": "stdout",
     "output_type": "stream",
     "text": [
      "Removed no burn in\n",
      " Neural network successfully converged after 109 epochs."
     ]
    },
    {
     "data": {
      "application/vnd.jupyter.widget-view+json": {
       "model_id": "4ccc847674a2442e98bbf463e4cc3b67",
       "version_major": 2,
       "version_minor": 0
      },
      "text/plain": [
       "Drawing 10000 posterior samples:   0%|          | 0/10000 [00:00<?, ?it/s]"
      ]
     },
     "metadata": {},
     "output_type": "display_data"
    },
    {
     "name": "stdout",
     "output_type": "stream",
     "text": [
      "Removed no burn in\n",
      " Neural network successfully converged after 116 epochs."
     ]
    },
    {
     "data": {
      "application/vnd.jupyter.widget-view+json": {
       "model_id": "67b5ec20d40b40b282599c4c3b54577f",
       "version_major": 2,
       "version_minor": 0
      },
      "text/plain": [
       "Drawing 10000 posterior samples:   0%|          | 0/10000 [00:00<?, ?it/s]"
      ]
     },
     "metadata": {},
     "output_type": "display_data"
    },
    {
     "name": "stdout",
     "output_type": "stream",
     "text": [
      "Removed no burn in\n",
      " Neural network successfully converged after 94 epochs."
     ]
    },
    {
     "data": {
      "application/vnd.jupyter.widget-view+json": {
       "model_id": "d5b83e7f22134f18ae1999aae92f760a",
       "version_major": 2,
       "version_minor": 0
      },
      "text/plain": [
       "Drawing 10000 posterior samples:   0%|          | 0/10000 [00:00<?, ?it/s]"
      ]
     },
     "metadata": {},
     "output_type": "display_data"
    },
    {
     "name": "stdout",
     "output_type": "stream",
     "text": [
      "Removed no burn in\n",
      " Neural network successfully converged after 112 epochs."
     ]
    },
    {
     "data": {
      "application/vnd.jupyter.widget-view+json": {
       "model_id": "edf73929a7d14d66934ad99df3c447a2",
       "version_major": 2,
       "version_minor": 0
      },
      "text/plain": [
       "Drawing 10000 posterior samples:   0%|          | 0/10000 [00:00<?, ?it/s]"
      ]
     },
     "metadata": {},
     "output_type": "display_data"
    },
    {
     "name": "stdout",
     "output_type": "stream",
     "text": [
      "Removed no burn in\n"
     ]
    }
   ],
   "source": [
    "gd_samples_list = get_posterior_MCSamples(5, compressed_dv_fid, compressed_dv_sims, compressed_dv_labels)"
   ]
  },
  {
   "cell_type": "code",
   "execution_count": 28,
   "id": "20984345-409f-4b2e-9f9c-82fce431ab7f",
   "metadata": {
    "tags": []
   },
   "outputs": [
    {
     "data": {
      "image/png": "[encoded data removed]",
      "text/plain": [
       "<Figure size 400x400 with 3 Axes>"
      ]
     },
     "metadata": {},
     "output_type": "display_data"
    }
   ],
   "source": [
    "%matplotlib inline \n",
    "\n",
    "g = plots.get_subplot_plotter()\n",
    "g.triangle_plot(gd_samples_list, filled=False)\n",
    "\n",
    "true = [0.26, 0.78, 0.5]\n",
    "\n",
    "# add truth values to get subplot\n",
    "for i in range(2):\n",
    "    for j in range(2):\n",
    "        if j > i:\n",
    "            continue\n",
    "        ax = g.subplots[i, j]\n",
    "        if i == j:\n",
    "            ax.axvline(true[i], color=\"black\", ls=\"--\", lw=1)\n",
    "        else:\n",
    "            ax.scatter(true[j], true[i], color=\"black\", marker=\"x\", s=20) \n",
    "        ax.grid(True, ls=\"--\", lw=1, alpha=0.5)"
   ]
  },
  {
   "cell_type": "code",
   "execution_count": 29,
   "id": "48353e9c-1592-48e8-8fd2-0b0bd6aa90a1",
   "metadata": {
    "tags": []
   },
   "outputs": [],
   "source": [
    "cov_mat_list = []\n",
    "\n",
    "for i in range(len(gd_samples_list)):\n",
    "    cov_mat_list.append(gd_samples_list[i].getCovMat().matrix)"
   ]
  },
  {
   "cell_type": "code",
   "execution_count": 30,
   "id": "dfbf8498-9eab-471f-9bdf-9a980b28758f",
   "metadata": {
    "tags": []
   },
   "outputs": [
    {
     "name": "stdout",
     "output_type": "stream",
     "text": [
      "FoM in test 0 is 472.02666035164145\n",
      "FoM in test 1 is 1849.7081344540036\n",
      "FoM in test 2 is 1897.0055560822334\n",
      "FoM in test 3 is 527.6482979661633\n",
      "FoM in test 4 is 572.6306479312508\n"
     ]
    }
   ],
   "source": [
    "FoM_list = []\n",
    "for i in range(len(gd_samples_list)):\n",
    "    FoM_list.append(1./np.sqrt(np.linalg.det(cov_mat_list[i])))\n",
    "    print(f'FoM in test {i} is {FoM_list[i]}')"
   ]
  },
  {
   "cell_type": "code",
   "execution_count": 31,
   "id": "8a1a6137-c55c-42d7-85a2-3343bfb7375e",
   "metadata": {},
   "outputs": [
    {
     "name": "stdout",
     "output_type": "stream",
     "text": [
      "FoM in test 0 is 472.02666035164145\n",
      "FoM in test 1 is 1849.7081344540036\n",
      "FoM in test 2 is 1897.0055560822334\n",
      "FoM in test 3 is 527.6482979661633\n",
      "FoM in test 4 is 572.6306479312508\n",
      "mean FoM is  1063.8038593570584\n"
     ]
    }
   ],
   "source": [
    "FoM_list = []\n",
    "for i in range(len(gd_samples_list)):\n",
    "    FoM_list.append(1./np.sqrt(np.linalg.det(cov_mat_list[i])))\n",
    "    print(f'FoM in test {i} is {FoM_list[i]}')\n",
    "    \n",
    "FoM_list = np.array(FoM_list)\n",
    "\n",
    "print('mean FoM is ', np.mean(FoM_list))"
   ]
  },
  {
   "cell_type": "code",
   "execution_count": null,
   "id": "a7100367-d951-45b6-a98e-f27e58bc3b05",
   "metadata": {},
   "outputs": [],
   "source": []
  },
  {
   "cell_type": "code",
   "execution_count": null,
   "id": "20872116-e1f4-461d-b89d-2e05aa313f52",
   "metadata": {},
   "outputs": [],
   "source": []
  },
  {
   "cell_type": "code",
   "execution_count": null,
   "id": "43daf40f-15c5-489f-ba54-6cd7ed84b92f",
   "metadata": {},
   "outputs": [],
   "source": []
  }
 ],
 "metadata": {
  "kernelspec": {
   "display_name": "py39",
   "language": "python",
   "name": "py39"
  },
  "language_info": {
   "codemirror_mode": {
    "name": "ipython",
    "version": 3
   },
   "file_extension": ".py",
   "mimetype": "text/x-python",
   "name": "python",
   "nbconvert_exporter": "python",
   "pygments_lexer": "ipython3",
   "version": "3.9.19"
  }
 },
 "nbformat": 4,
 "nbformat_minor": 5
}
