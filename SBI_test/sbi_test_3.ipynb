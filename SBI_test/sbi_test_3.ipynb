{
 "cells": [
  {
   "cell_type": "markdown",
   "id": "70b869d9-040e-4a62-bc74-6f35ecddf0e3",
   "metadata": {},
   "source": [
    "# Learning Likelihood rather than posterior\n",
    "\n",
    "\n",
    "    Likelihood learned fine, but the recommended sampling arviz in sbi is confusing. Switching to emcee"
   ]
  },
  {
   "cell_type": "code",
   "execution_count": 117,
   "id": "b4efa906-ccc2-4084-8b40-70ca76673c61",
   "metadata": {
    "tags": []
   },
   "outputs": [],
   "source": [
    "import numpy as np\n",
    "import sbi\n",
    "from sbi.inference import SNPE, SNLE\n",
    "import getdist\n",
    "from getdist import plots, MCSamples\n",
    "import sys, pathlib, os, random\n",
    "import torch\n",
    "import matplotlib.pyplot as plt\n",
    "import matplotlib\n",
    "import scipy.stats as stats\n",
    "import emcee\n",
    "\n",
    "from sbi.inference import likelihood_estimator_based_potential, MCMCPosterior"
   ]
  },
  {
   "cell_type": "markdown",
   "id": "c98f4f96-6d54-4d85-afb5-93371acc8be0",
   "metadata": {},
   "source": [
    "# Load compressed dv and true paramters"
   ]
  },
  {
   "cell_type": "code",
   "execution_count": 3,
   "id": "1cf5da58-4563-42a7-9d02-78777aa1ac8f",
   "metadata": {
    "tags": []
   },
   "outputs": [],
   "source": [
    "compressed_dv_sims = np.load('../compression_NN/output/compressed_dv_semi_ae_v1.npy')\n",
    "compressed_dv_labels = np.load('../compression_NN/output/pars_LFI.npy')\n",
    "\n",
    "compressed_dv_fid  = np.load('../compression_NN/output/dv_compressed_fid_ae_v1.npy')\n",
    "\n",
    "compressed_dv_fid = compressed_dv_fid.reshape(-1,1).T"
   ]
  },
  {
   "cell_type": "code",
   "execution_count": 137,
   "id": "8da942e4-35b6-410d-beb9-05dd89b1a3da",
   "metadata": {
    "tags": []
   },
   "outputs": [],
   "source": [
    "# Only infer Omm and S8\n",
    "\n",
    "compressed_dv_labels = compressed_dv_labels[:,0:2]\n"
   ]
  },
  {
   "cell_type": "code",
   "execution_count": 157,
   "id": "7aff7065-c03f-4ce5-8689-e2bc49ac1e4c",
   "metadata": {
    "tags": []
   },
   "outputs": [],
   "source": [
    "def get_likelihood_estimator(N_rel, compressed_dv_sims, compressed_dv_labels):\n",
    "    likelihood_list = []\n",
    "\n",
    "\n",
    "    for _ in range(N_rel):\n",
    "        # define compressed data, parameters, and target (compressed)\n",
    "        p, l = compressed_dv_sims, compressed_dv_labels\n",
    "        theta, x = torch.tensor(l).float(), torch.tensor(p).float()\n",
    "\n",
    "        prior = sbi.utils.BoxUniform(low=torch.tensor(np.min(l, axis=0)), \\\n",
    "            high=torch.tensor(np.max(l, axis=0)))\n",
    "\n",
    "        inference = SNLE(density_estimator=sbi.utils.likelihood_nn(\\\n",
    "                        model='maf', hidden_features=50, num_transforms=4))\n",
    "        likelihood_estimator = inference.append_simulations(theta, x).train()\n",
    "        likelihood_list.append(likelihood_estimator)\n",
    "\n",
    "    return likelihood_list"
   ]
  },
  {
   "cell_type": "code",
   "execution_count": 158,
   "id": "eef90f8a-a5cc-4d7e-8148-9e441dc8ee82",
   "metadata": {
    "tags": []
   },
   "outputs": [
    {
     "name": "stderr",
     "output_type": "stream",
     "text": [
      "/tmp/ipykernel_644907/1324946356.py:13: DeprecationWarning: This method is deprecated and will be removed in a future release. Please use `from sbi.neural_nets import likelihood_nn` in the future.\n",
      "  inference = SNLE(density_estimator=sbi.utils.likelihood_nn(\\\n"
     ]
    },
    {
     "name": "stdout",
     "output_type": "stream",
     "text": [
      " Neural network successfully converged after 371 epochs."
     ]
    }
   ],
   "source": [
    "# Learn likelihood_estimator (several realizations)\n",
    "\n",
    "NUM_SBI_REL = 3\n",
    "\n",
    "likelihood_list = get_likelihood_estimator(NUM_SBI_REL, compressed_dv_sims, compressed_dv_labels)"
   ]
  },
  {
   "cell_type": "code",
   "execution_count": 188,
   "id": "ab0e404b-1e53-40e7-a626-bb40a694b3df",
   "metadata": {
    "tags": []
   },
   "outputs": [
    {
     "name": "stderr",
     "output_type": "stream",
     "text": [
      "/global/homes/k/kunhaoz/miniconda3/envs/py39/lib/python3.9/site-packages/sbi/inference/posteriors/mcmc_posterior.py:115: UserWarning: The default value for thinning in MCMC sampling has been changed from 10 to 1. This might cause the results differ from the last benchmark.\n",
      "  thin = _process_thin_default(thin)\n",
      "/tmp/ipykernel_644907/1651352313.py:23: UserWarning: `.log_prob()` is deprecated for methods that can only evaluate the log-probability up to a normalizing constant. Use `.potential()` instead.\n",
      "  return  posterior.log_prob(tmp).numpy()\n",
      "/tmp/ipykernel_644907/1651352313.py:23: UserWarning: The log-probability is unnormalized!\n",
      "  return  posterior.log_prob(tmp).numpy()\n",
      "/global/homes/k/kunhaoz/miniconda3/envs/py39/lib/python3.9/site-packages/emcee/ensemble.py:335: RuntimeWarning: invalid value encountered in subtract\n",
      "  lnpdiff = (self.dim - 1.) * np.log(zz) + newlnprob - lnprob0\n"
     ]
    },
    {
     "name": "stdout",
     "output_type": "stream",
     "text": [
      "Removed 0.3 as burn in\n"
     ]
    }
   ],
   "source": [
    "# Run MCMC with learned likelihood\n",
    "\n",
    "lower_bound = torch.as_tensor([0.1, 0.5]) \n",
    "upper_bound = torch.as_tensor([0.45, 1.1]) \n",
    "\n",
    "Om_S8_prior = torch.distributions.Independent(\n",
    "    torch.distributions.Uniform(lower_bound, upper_bound),\n",
    "    reinterpreted_batch_ndims=1\n",
    ")\n",
    "\n",
    "gd_samples_list = []\n",
    "for i in range(1): # TEST\n",
    "    this_likelihood_estimator = likelihood_list[i]\n",
    "    \n",
    "\n",
    "    potential_fn, parameter_transform = likelihood_estimator_based_potential(this_likelihood_estimator,\\\n",
    "                                                                             prior=Om_S8_prior, x_o=compressed_dv_fid)\n",
    "    posterior = MCMCPosterior(potential_fn, proposal=prior,\\\n",
    "                                  theta_transform=parameter_transform, warmup_steps=10)\n",
    "\n",
    "    def log_probability(theta):\n",
    "        tmp = torch.as_tensor(theta).float()\n",
    "        return  posterior.log_prob(tmp).numpy() \n",
    "    \n",
    "    # Initialize sampler\n",
    "    ndim = 2  # Number of parameters\n",
    "    nwalkers = 32  # Must be even and >= 2*ndim\n",
    "    random_unit = np.random.rand(nwalkers, ndim)\n",
    "    start_positions = lower_bound + (upper_bound - lower_bound) * random_unit\n",
    "    \n",
    "    sampler = emcee.EnsembleSampler(nwalkers, ndim, log_probability)\n",
    "\n",
    "    # Run sampler\n",
    "    nsteps = 10000\n",
    "    sampler.run_mcmc(starting_positions, nsteps)\n",
    "    this_samples = sampler.chain\n",
    "    this_samples = this_samples.reshape(this_samples.shape[0]*this_samples.shape[1], this_samples.shape[2])\n",
    "    this_mc_sample = MCSamples(samples=this_samples, names=['Om', 'S8'], \\\n",
    "            labels=['Om', 'S8'], ranges={\"Om\": [np.min(compressed_dv_labels[:, 0]), np.max(compressed_dv_labels[:, 0])], \\\n",
    "                \"S8\": [np.min(compressed_dv_labels[:, 1]), np.max(compressed_dv_labels[:, 1])]},\\\n",
    "                label='test',\\\n",
    "                settings={'smooth_scale_2D':0.45, 'smooth_scale_1D':0.45, 'ignore_rows':0.3})\n",
    "    \n",
    "    gd_samples_list.append(this_mc_sample)\n",
    "    "
   ]
  },
  {
   "cell_type": "code",
   "execution_count": 198,
   "id": "e09d24e6-8e5e-41bb-b273-90179a63ac76",
   "metadata": {
    "tags": []
   },
   "outputs": [
    {
     "name": "stdout",
     "output_type": "stream",
     "text": [
      "Removed 0.3 as burn in\n"
     ]
    }
   ],
   "source": [
    "gd_samples_list=[]\n",
    "this_samples = this_samples.reshape(this_samples.shape[0]*this_samples.shape[1], this_samples.shape[2])\n",
    "this_mc_sample = MCSamples(samples=this_samples, names=['Om', 'S8'], \\\n",
    "        labels=['Om', 'S8'], ranges={\"Om\": [np.min(compressed_dv_labels[:, 0]), np.max(compressed_dv_labels[:, 0])], \\\n",
    "            \"S8\": [np.min(compressed_dv_labels[:, 1]), np.max(compressed_dv_labels[:, 1])]},\\\n",
    "            label='test',\\\n",
    "            settings={'smooth_scale_2D':0.45, 'smooth_scale_1D':0.45, 'ignore_rows':0.3})\n",
    "\n",
    "gd_samples_list.append(this_mc_sample)"
   ]
  },
  {
   "cell_type": "code",
   "execution_count": 199,
   "id": "20984345-409f-4b2e-9f9c-82fce431ab7f",
   "metadata": {
    "tags": []
   },
   "outputs": [
    {
     "data": {
      "image/png": "[encoded data removed]",
      "text/plain": [
       "<Figure size 400x400 with 3 Axes>"
      ]
     },
     "metadata": {},
     "output_type": "display_data"
    }
   ],
   "source": [
    "%matplotlib inline \n",
    "\n",
    "g = plots.get_subplot_plotter()\n",
    "g.triangle_plot(gd_samples_list, filled=False)\n",
    "\n",
    "true = [0.26, 0.78, 0.5]\n",
    "\n",
    "# add truth values to get subplot\n",
    "for i in range(2):\n",
    "    for j in range(2):\n",
    "        if j > i:\n",
    "            continue\n",
    "        ax = g.subplots[i, j]\n",
    "        if i == j:\n",
    "            ax.axvline(true[i], color=\"black\", ls=\"--\", lw=1)\n",
    "        else:\n",
    "            ax.scatter(true[j], true[i], color=\"black\", marker=\"x\", s=20) \n",
    "        ax.grid(True, ls=\"--\", lw=1, alpha=0.5)"
   ]
  },
  {
   "cell_type": "code",
   "execution_count": 200,
   "id": "48353e9c-1592-48e8-8fd2-0b0bd6aa90a1",
   "metadata": {
    "tags": []
   },
   "outputs": [],
   "source": [
    "cov_mat_list = []\n",
    "\n",
    "for i in range(len(gd_samples_list)):\n",
    "    cov_mat_list.append(gd_samples_list[i].getCovMat().matrix)"
   ]
  },
  {
   "cell_type": "code",
   "execution_count": 201,
   "id": "dfbf8498-9eab-471f-9bdf-9a980b28758f",
   "metadata": {
    "tags": []
   },
   "outputs": [
    {
     "name": "stdout",
     "output_type": "stream",
     "text": [
      "FoM in test 0 is 1.3430330479210837\n",
      "mean FoM is  1.3430330479210837\n"
     ]
    }
   ],
   "source": [
    "FoM_list = []\n",
    "for i in range(len(gd_samples_list)):\n",
    "    FoM_list.append(1./np.sqrt(np.linalg.det(cov_mat_list[i])))\n",
    "    print(f'FoM in test {i} is {FoM_list[i]}')\n",
    "    \n",
    "FoM_list = np.array(FoM_list)\n",
    "\n",
    "print('mean FoM is ', np.mean(FoM_list))"
   ]
  },
  {
   "cell_type": "code",
   "execution_count": null,
   "id": "a7100367-d951-45b6-a98e-f27e58bc3b05",
   "metadata": {},
   "outputs": [],
   "source": []
  },
  {
   "cell_type": "code",
   "execution_count": null,
   "id": "20872116-e1f4-461d-b89d-2e05aa313f52",
   "metadata": {},
   "outputs": [],
   "source": []
  }
 ],
 "metadata": {
  "kernelspec": {
   "display_name": "py39",
   "language": "python",
   "name": "py39"
  },
  "language_info": {
   "codemirror_mode": {
    "name": "ipython",
    "version": 3
   },
   "file_extension": ".py",
   "mimetype": "text/x-python",
   "name": "python",
   "nbconvert_exporter": "python",
   "pygments_lexer": "ipython3",
   "version": "3.9.19"
  }
 },
 "nbformat": 4,
 "nbformat_minor": 5
}
