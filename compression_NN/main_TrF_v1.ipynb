{
 "cells": [
  {
   "cell_type": "markdown",
   "id": "f5e10fb5-9013-4d07-91b8-01e6b8eedf98",
   "metadata": {},
   "source": [
    "# KZ NOTE:\n",
    "\n",
    "    Semi-auto-encoder: return the last layer latent space as compressed dv\n",
    "    \n",
    "# some notes:\n",
    "    compressed_dv_semi_ae-v1: ResMLP with output activation. looks ok but maybe more easily interpretable if no output activation\n",
    "    \n",
    "    compressed_dv_semi_ae-v2: MLP and NO output activation: this is turns out to be kind of bad\n",
    "    \n",
    "    v3: try ResMLP without output activation (not as good as v1). Now v3 is v1 but smaller batch size"
   ]
  },
  {
   "cell_type": "code",
   "execution_count": 69,
   "id": "c859da18-018c-4afe-b989-919dfc93d5d8",
   "metadata": {
    "tags": []
   },
   "outputs": [],
   "source": [
    "import time, sys, os\n",
    "import numpy as np\n",
    "import torch\n",
    "import torch.nn as nn\n",
    "import torch.backends.cudnn as cudnn\n",
    "from torchsummary import summary\n",
    "import tqdm\n",
    "from scipy.stats import norm\n",
    "from scipy.interpolate import interp1d\n",
    "\n",
    "from compression_nn.preprocess import prepare_data_for_training\n",
    "from compression_nn.compression_nn import CompressionNN\n",
    "\n",
    "import matplotlib.pyplot as plt\n",
    "\n",
    "os.environ[\"CUDA_VISIBLE_DEVICES\"]=\"0\""
   ]
  },
  {
   "cell_type": "code",
   "execution_count": 70,
   "id": "3c1f0486-d847-4244-99f2-e183e88d3df5",
   "metadata": {
    "tags": []
   },
   "outputs": [
    {
     "name": "stdout",
     "output_type": "stream",
     "text": [
      "CUDA Available\n"
     ]
    }
   ],
   "source": [
    "# use GPUs if available\n",
    "if torch.cuda.is_available():\n",
    "    print(\"CUDA Available\")\n",
    "    device = torch.device('cuda')\n",
    "    use_cuda=True\n",
    "else:\n",
    "    print('CUDA Not Available')\n",
    "    device = torch.device('cpu')\n",
    "    use_cuda=False\n",
    "cudnn.benchmark = True      #May train faster but cost more memory\n"
   ]
  },
  {
   "cell_type": "code",
   "execution_count": 71,
   "id": "e6a40e21-a306-4565-82e3-aa38ff838e4d",
   "metadata": {
    "tags": []
   },
   "outputs": [],
   "source": [
    "STATS = 'WL_23_WPH_short_CMBWL'\n",
    "\n",
    "GAUSSIAN_AUG_STRENTH = 0.1\n",
    "BATCH_SIZE           = 16 #\n",
    "LEARNING_RATE        = 0.0005\n",
    "NUM_EPOCH            = 300\n",
    "WEIGHT_DECAY_RATE    = 0.01\n",
    "SCHEDULER_FACTOR     = 0.3\n",
    "SCHEDULER_PATIENCE   = 10\n"
   ]
  },
  {
   "cell_type": "code",
   "execution_count": 72,
   "id": "1e8b4ce1-7d9f-4448-83d0-b6d7c6529317",
   "metadata": {
    "tags": []
   },
   "outputs": [
    {
     "name": "stdout",
     "output_type": "stream",
     "text": [
      "WL_3_WPH_short\n",
      "WL_23_WPH_short\n",
      "WL_23_WPH_short_CMBWL\n",
      "WPH\n",
      "CMBWL\n"
     ]
    }
   ],
   "source": [
    "DD = np.load('/global/cfs/cdirs/des/mgatti/CMB_lensing/DV/SBI_forecast/compression/compression_data_combined.npy',allow_pickle=True).item()\n",
    "stat = DD['stat']\n",
    "mask = DD['mask']\n",
    "target = DD['data']\n",
    "\n",
    "# wph get rid of stuff that's degenerate with wl2 and wl3\n",
    "# this defines \"WPH_short\"\n",
    "mask_l = np.array(16*[ True,  True,  True,  True, False, False,  True,  True,  True,\n",
    "        True,  True,  True, False, False, False, False,  True,  True,\n",
    "        True,  True, False, False, False, False,  True,  True, False,\n",
    "       False, False, False, False, False, False, False, False, False])\n",
    "mask_nbody_wph = np.hstack([np.array([False]*60),np.array([False]*120),mask_l])\n",
    "\n",
    "# these keys are DVs that don't exist. \n",
    "# These indices are defined to select from their corresponding odict ('original dictionary') DVs that do exist\n",
    "indict2 = dict()\n",
    "indict2['WL_23_WPH_short'] = np.concatenate( ( list( range(320) ), np.array( range(320, 1076))[mask_nbody_wph]) )\n",
    "indict2['WL_3_WPH_short'] = np.concatenate( ( list( range(160, 320) ), np.array( range(320, 1076))[mask_nbody_wph]) )\n",
    "indict2['WL_23_WPH_short_CMBWL'] = np.concatenate( ( list( range(320) ), np.array( range(320, 1076))[mask_nbody_wph], list(range(1076, 1108) )) )\n",
    "indict2['WPH'] = np.array( range(160, 916))[mask_nbody_wph]\n",
    "indict2['CMBWL'] = range(160, 192)\n",
    "\n",
    "odict = dict()\n",
    "odict['WL_3_WPH_short'] = 'WL_23_WPH'\n",
    "odict['WL_23_WPH_short'] = 'WL_23_WPH'\n",
    "odict['WL_23_WPH_short_CMBWL'] = 'WL_23_WPH_WCMBL'\n",
    "odict['WPH'] = 'WL_2_WPH'\n",
    "odict['CMBWL'] = 'WL_2_WCMBL'\n",
    "\n",
    "for key in odict.keys():\n",
    "    print(key)\n",
    "    stat[key] = stat[odict[key]].copy()\n",
    "    stat[key]['dv'] = stat[key]['dv'][:,indict2[key]]\n",
    "        \n",
    "\n",
    "swapind = np.array([0,1,2,3,4,13,14,15,9,10,11,12,5,6,7,8,16])   # om s8 w a e .    ob ns h ...   dm dz\n",
    "\n",
    "for key in stat.keys():\n",
    "    stat[key]['params'] = stat[key]['params'][:,swapind]\n",
    "\n",
    "# defining additional_mask that filters away some extreme values of w, A, eta\n",
    "parms = stat['WL_2']['params']\n",
    "extra =   (parms[:,3]<0.8)  & (parms[:,3]>0.2) &\\\n",
    "         (parms[:,4]>0.1) &   (parms[:,4]<0.9) \n",
    "\n",
    "additional_mask = (stat['WL_2']['params'][:,2]>0.1)&extra\n",
    "\n"
   ]
  },
  {
   "cell_type": "code",
   "execution_count": 73,
   "id": "1edf733d-d9d1-479c-8467-aca9fdfb3768",
   "metadata": {
    "tags": []
   },
   "outputs": [],
   "source": [
    "# these are the pars/DV that will be used to train the compression (or whatever pre-processing).\n",
    "pars_train = np.array(stat[STATS]['params'][mask&additional_mask,:16])\n",
    "dv = np.array(stat[STATS]['dv'][mask&additional_mask,:])\n",
    "\n",
    "    # these are the pars/DV that will be used for the LFI step later on \n",
    "    # (so you apply whatever compression/preprocessing to these and give to NDE)\n",
    "pars_LFI = np.array(stat[STATS]['params'][(~mask)&additional_mask,:16])\n",
    "dv_LFI = np.array(stat[STATS]['dv'][(~mask)&additional_mask,:])"
   ]
  },
  {
   "cell_type": "code",
   "execution_count": 74,
   "id": "0eed7e83-a8bf-4f19-9050-f79c90e1452f",
   "metadata": {},
   "outputs": [],
   "source": [
    "# use only labels OMM, S8, A_IA\n",
    "\n",
    "pars_train = pars_train[:, [0,1,3]]\n",
    "pars_LFI = pars_LFI[:, [0,1,3]]\n",
    "\n"
   ]
  },
  {
   "cell_type": "markdown",
   "id": "249f25c4-2915-4f9a-9698-6ed40f7419de",
   "metadata": {},
   "source": [
    "# Process data; with ZCA whitening"
   ]
  },
  {
   "cell_type": "code",
   "execution_count": 75,
   "id": "a142fb69-7fb2-40da-8013-54ea0aa99a16",
   "metadata": {
    "tags": []
   },
   "outputs": [],
   "source": [
    "from compression_nn.preprocess import MinMaxNormalizer"
   ]
  },
  {
   "cell_type": "code",
   "execution_count": 76,
   "id": "cb2128fc-a0fb-40d5-9fb8-ad10e3632967",
   "metadata": {
    "tags": []
   },
   "outputs": [
    {
     "name": "stdout",
     "output_type": "stream",
     "text": [
      "Train with all 16 parameters.\n",
      "max-min normalize the labels\n"
     ]
    }
   ],
   "source": [
    "print('Train with all 16 parameters.')\n",
    "\n",
    "print('max-min normalize the labels')\n",
    "\n",
    "# Initialize and fit normalizer\n",
    "label_normalizer = MinMaxNormalizer()\n",
    "pars_train = label_normalizer.fit_transform(pars_train)\n"
   ]
  },
  {
   "cell_type": "code",
   "execution_count": 77,
   "id": "3877e4c9-dc27-4b26-8538-b969be903711",
   "metadata": {},
   "outputs": [],
   "source": [
    "num_samples = len(pars_train)\n",
    "indices = np.random.permutation(num_samples)\n",
    "train_size = int(0.9 * num_samples)\n",
    "\n",
    "train_indices = indices[:train_size]\n",
    "val_indices = indices[train_size:]\n",
    "\n",
    "train_loader, val_loader, test_loader, zca = prepare_data_for_training(\n",
    "    train_x=dv[train_indices],\n",
    "    train_y=pars_train[train_indices],\n",
    "    val_x=dv[val_indices],\n",
    "    val_y=pars_train[val_indices],\n",
    "    test_x=dv_LFI,\n",
    "    test_y=pars_LFI,\n",
    "    batch_size=BATCH_SIZE,\n",
    "    whitening=True\n",
    ")"
   ]
  },
  {
   "cell_type": "code",
   "execution_count": 78,
   "id": "b499c3ae-fcf3-40d7-b6e4-0fcbf7efd558",
   "metadata": {
    "tags": []
   },
   "outputs": [
    {
     "data": {
      "text/plain": [
       "<torch.utils.data.dataloader.DataLoader at 0x7f2da93dbf70>"
      ]
     },
     "execution_count": 78,
     "metadata": {},
     "output_type": "execute_result"
    }
   ],
   "source": [
    "train_loader"
   ]
  },
  {
   "cell_type": "markdown",
   "id": "8d0eb229-4d11-4a30-ad57-1190dcdda6f9",
   "metadata": {
    "tags": []
   },
   "source": [
    "# Start Training!"
   ]
  },
  {
   "cell_type": "code",
   "execution_count": 11,
   "id": "4f71b59e-6694-441a-8783-e8b01bfbd02f",
   "metadata": {
    "tags": []
   },
   "outputs": [],
   "source": [
    "## KZ this doesn't work; just to remind myself. Need to increase complexity?\n",
    "\n",
    "\n",
    "# hyperparameter_configs = [\n",
    "#     {\n",
    "#         'test_id': 'Trf_test_v1',\n",
    "#         'hidden_dims': [16, 1, 1, 64],\n",
    "#         'dropout_rate': 0.2\n",
    "#     },\n",
    "\n",
    "#     {\n",
    "#         'test_id': 'Trf_test_v1',\n",
    "#         'hidden_dims': [16, 1, 4, 64],\n",
    "#         'dropout_rate': 0.1\n",
    "#     },\n",
    "# ]\n",
    "\n",
    "# ]\n",
    "\n",
    "# for config in hyperparameter_configs:\n",
    "#     model = CompressionNN(\n",
    "#         input_dim=train_loader.dataset.tensors[0].shape[1],\n",
    "#         output_dim=train_loader.dataset.tensors[1].shape[1],\n",
    "#         test_id=config['test_id'],\n",
    "#         hidden_dims=config['hidden_dims'],\n",
    "#         dropout_rate=config['dropout_rate'],\n",
    "#         output_act= torch.nn.Softplus(),\n",
    "#         arch_name = 'Transformer'\n",
    "#     )\n",
    "    \n",
    "#     model.zca = zca\n",
    "#     train_losses, val_losses = model.fit(\n",
    "#         train_loader=train_loader,\n",
    "#         val_loader=val_loader,\n",
    "#         epochs=NUM_EPOCH,\n",
    "#         early_stopping_patience=50,\n",
    "#         loss_fun = torch.nn.L1Loss()\n",
    "#     )"
   ]
  },
  {
   "cell_type": "code",
   "execution_count": 12,
   "id": "e54f53c3-31da-4681-b302-bd8da9a30895",
   "metadata": {
    "tags": []
   },
   "outputs": [
    {
     "name": "stdout",
     "output_type": "stream",
     "text": [
      "Transformers Architectures: (note the difference with MLP in hidden-dims)\n",
      "d_model (Model dimension) =  32\n",
      "num_heads (Number of attention heads) =  1\n",
      "num_layers (Number of transformer blocks) =  2\n",
      "d_ff (Feed-forward network dimension) =  64\n"
     ]
    },
    {
     "name": "stderr",
     "output_type": "stream",
     "text": [
      "  0%|          | 1/300 [00:03<15:11,  3.05s/it]"
     ]
    },
    {
     "name": "stdout",
     "output_type": "stream",
     "text": [
      "Epoch 1/300:\n",
      "Training Loss: 0.207829\n",
      "Validation Loss: 0.210127\n"
     ]
    },
    {
     "name": "stderr",
     "output_type": "stream",
     "text": [
      " 17%|█▋        | 51/300 [02:17<11:46,  2.84s/it]"
     ]
    },
    {
     "name": "stdout",
     "output_type": "stream",
     "text": [
      "Epoch 51/300:\n",
      "Training Loss: 0.123209\n",
      "Validation Loss: 0.104626\n"
     ]
    },
    {
     "name": "stderr",
     "output_type": "stream",
     "text": [
      " 34%|███▎      | 101/300 [04:31<08:29,  2.56s/it]"
     ]
    },
    {
     "name": "stdout",
     "output_type": "stream",
     "text": [
      "Epoch 101/300:\n",
      "Training Loss: 0.105952\n",
      "Validation Loss: 0.080930\n"
     ]
    },
    {
     "name": "stderr",
     "output_type": "stream",
     "text": [
      " 55%|█████▌    | 166/300 [07:22<06:03,  2.71s/it]"
     ]
    },
    {
     "name": "stdout",
     "output_type": "stream",
     "text": [
      "Epoch 166/300:\n",
      "Training Loss: 0.0969829\n",
      "Validation Loss: 0.0801707\n"
     ]
    },
    {
     "name": "stderr",
     "output_type": "stream",
     "text": [
      " 56%|█████▌    | 167/300 [07:27<05:56,  2.68s/it]\n"
     ]
    },
    {
     "name": "stdout",
     "output_type": "stream",
     "text": [
      "Early stopping triggered after 168 epochs\n",
      "Best validation loss is 0.07057359165929515\n",
      "Model and preprocessing saved to models/model_Trf_test_v1.pkl\n",
      "Transformers Architectures: (note the difference with MLP in hidden-dims)\n",
      "d_model (Model dimension) =  32\n",
      "num_heads (Number of attention heads) =  1\n",
      "num_layers (Number of transformer blocks) =  2\n",
      "d_ff (Feed-forward network dimension) =  128\n"
     ]
    },
    {
     "name": "stderr",
     "output_type": "stream",
     "text": [
      "  0%|          | 1/300 [00:02<14:09,  2.84s/it]"
     ]
    },
    {
     "name": "stdout",
     "output_type": "stream",
     "text": [
      "Epoch 1/300:\n",
      "Training Loss: 0.208587\n",
      "Validation Loss: 0.209833\n"
     ]
    },
    {
     "name": "stderr",
     "output_type": "stream",
     "text": [
      " 17%|█▋        | 51/300 [02:16<11:09,  2.69s/it]"
     ]
    },
    {
     "name": "stdout",
     "output_type": "stream",
     "text": [
      "Epoch 51/300:\n",
      "Training Loss: 0.123808\n",
      "Validation Loss: 0.119580\n"
     ]
    },
    {
     "name": "stderr",
     "output_type": "stream",
     "text": [
      " 34%|███▎      | 101/300 [04:31<09:19,  2.81s/it]"
     ]
    },
    {
     "name": "stdout",
     "output_type": "stream",
     "text": [
      "Epoch 101/300:\n",
      "Training Loss: 0.119705\n",
      "Validation Loss: 0.103124\n"
     ]
    },
    {
     "name": "stderr",
     "output_type": "stream",
     "text": [
      " 54%|█████▎    | 161/300 [07:14<06:14,  2.70s/it]\n"
     ]
    },
    {
     "name": "stdout",
     "output_type": "stream",
     "text": [
      "Early stopping triggered after 162 epochs\n",
      "Best validation loss is 0.10182088202443616\n",
      "Model and preprocessing saved to models/model_Trf_test_v2.pkl\n",
      "Transformers Architectures: (note the difference with MLP in hidden-dims)\n",
      "d_model (Model dimension) =  32\n",
      "num_heads (Number of attention heads) =  1\n",
      "num_layers (Number of transformer blocks) =  4\n",
      "d_ff (Feed-forward network dimension) =  64\n"
     ]
    },
    {
     "name": "stderr",
     "output_type": "stream",
     "text": [
      "  0%|          | 1/300 [00:04<21:40,  4.35s/it]"
     ]
    },
    {
     "name": "stdout",
     "output_type": "stream",
     "text": [
      "Epoch 1/300:\n",
      "Training Loss: 0.208556\n",
      "Validation Loss: 0.211456\n"
     ]
    },
    {
     "name": "stderr",
     "output_type": "stream",
     "text": [
      " 17%|█▋        | 51/300 [03:55<18:11,  4.38s/it]"
     ]
    },
    {
     "name": "stdout",
     "output_type": "stream",
     "text": [
      "Epoch 51/300:\n",
      "Training Loss: 0.171018\n",
      "Validation Loss: 0.137077\n"
     ]
    },
    {
     "name": "stderr",
     "output_type": "stream",
     "text": [
      " 34%|███▎      | 101/300 [07:38<14:47,  4.46s/it]"
     ]
    },
    {
     "name": "stdout",
     "output_type": "stream",
     "text": [
      "Epoch 101/300:\n",
      "Training Loss: 0.137587\n",
      "Validation Loss: 0.102964\n"
     ]
    },
    {
     "name": "stderr",
     "output_type": "stream",
     "text": [
      " 55%|█████▌    | 166/300 [12:30<10:11,  4.57s/it]"
     ]
    },
    {
     "name": "stdout",
     "output_type": "stream",
     "text": [
      "Epoch 166/300:\n",
      "Training Loss: 0.1364314\n",
      "Validation Loss: 0.1012308\n"
     ]
    },
    {
     "name": "stderr",
     "output_type": "stream",
     "text": [
      " 57%|█████▋    | 172/300 [13:02<09:42,  4.55s/it]"
     ]
    },
    {
     "name": "stdout",
     "output_type": "stream",
     "text": [
      "Early stopping triggered after 173 epochs\n",
      "Best validation loss is 0.10110152654092887\n",
      "Model and preprocessing saved to models/model_Trf_test_v3.pkl\n"
     ]
    },
    {
     "name": "stderr",
     "output_type": "stream",
     "text": [
      "\n"
     ]
    }
   ],
   "source": [
    "hyperparameter_configs = [\n",
    "    ## KZ NOTE: kind of works but not really\n",
    "    # {\n",
    "    #     'test_id': 'Trf_test_v1',\n",
    "    #     'hidden_dims': [64, 1, 1, 64],\n",
    "    #     'dropout_rate': 0.1\n",
    "    # },\n",
    "    \n",
    "    # {\n",
    "    #     'test_id': 'Trf_test_v2',\n",
    "    #     'hidden_dims': [64, 1, 2, 64],\n",
    "    #     'dropout_rate': 0.1\n",
    "    # },\n",
    "    \n",
    "    ### below kind of get loss=0.06\n",
    "    \n",
    "    {\n",
    "        'test_id': 'Trf_test_v1',\n",
    "        'hidden_dims': [32, 1, 2, 64],\n",
    "        'dropout_rate': 0.1\n",
    "    },\n",
    "    \n",
    "    {\n",
    "        'test_id': 'Trf_test_v2',\n",
    "        'hidden_dims': [32, 1, 2, 128],\n",
    "        'dropout_rate': 0.1\n",
    "    },\n",
    "    \n",
    "    {\n",
    "        'test_id': 'Trf_test_v3',\n",
    "        'hidden_dims': [32, 1, 4, 64],\n",
    "        'dropout_rate': 0.1\n",
    "    },\n",
    "]\n",
    "\n",
    "for config in hyperparameter_configs:\n",
    "    model = CompressionNN(\n",
    "        input_dim=train_loader.dataset.tensors[0].shape[1],\n",
    "        output_dim=train_loader.dataset.tensors[1].shape[1],\n",
    "        test_id=config['test_id'],\n",
    "        hidden_dims=config['hidden_dims'],\n",
    "        dropout_rate=config['dropout_rate'],\n",
    "        output_act= torch.nn.Softplus(),\n",
    "        arch_name = 'Transformer'\n",
    "    )\n",
    "    \n",
    "    model.zca = zca\n",
    "    train_losses, val_losses = model.fit(\n",
    "        train_loader=train_loader,\n",
    "        val_loader=val_loader,\n",
    "        epochs=NUM_EPOCH,\n",
    "        early_stopping_patience=10,\n",
    "        loss_fun = torch.nn.L1Loss()\n",
    "    )"
   ]
  },
  {
   "cell_type": "code",
   "execution_count": 45,
   "id": "7d6ef598-d473-431c-8232-03034b6dda2e",
   "metadata": {
    "tags": []
   },
   "outputs": [
    {
     "name": "stdout",
     "output_type": "stream",
     "text": [
      "Transformers Architectures: (note the difference with MLP in hidden-dims)\n",
      "d_model (Model dimension) =  32\n",
      "num_heads (Number of attention heads) =  1\n",
      "num_layers (Number of transformer blocks) =  2\n",
      "d_ff (Feed-forward network dimension) =  128\n"
     ]
    },
    {
     "name": "stderr",
     "output_type": "stream",
     "text": [
      "  0%|          | 1/300 [00:02<14:02,  2.82s/it]"
     ]
    },
    {
     "name": "stdout",
     "output_type": "stream",
     "text": [
      "Epoch 1/300:\n",
      "Training Loss: 0.208933\n",
      "Validation Loss: 0.213795\n"
     ]
    },
    {
     "name": "stderr",
     "output_type": "stream",
     "text": [
      " 17%|█▋        | 51/300 [02:04<09:56,  2.39s/it]"
     ]
    },
    {
     "name": "stdout",
     "output_type": "stream",
     "text": [
      "Epoch 51/300:\n",
      "Training Loss: 0.100656\n",
      "Validation Loss: 0.101890\n"
     ]
    },
    {
     "name": "stderr",
     "output_type": "stream",
     "text": [
      " 34%|███▎      | 101/300 [04:07<07:56,  2.39s/it]"
     ]
    },
    {
     "name": "stdout",
     "output_type": "stream",
     "text": [
      "Epoch 101/300:\n",
      "Training Loss: 0.069492\n",
      "Validation Loss: 0.069617\n"
     ]
    },
    {
     "name": "stderr",
     "output_type": "stream",
     "text": [
      " 55%|█████▌    | 166/300 [06:51<05:42,  2.56s/it]"
     ]
    },
    {
     "name": "stdout",
     "output_type": "stream",
     "text": [
      "Epoch 166/300:\n",
      "Training Loss: 0.0656093\n",
      "Validation Loss: 0.0681253\n"
     ]
    },
    {
     "name": "stderr",
     "output_type": "stream",
     "text": [
      " 60%|██████    | 181/300 [07:29<04:53,  2.47s/it]"
     ]
    },
    {
     "name": "stdout",
     "output_type": "stream",
     "text": [
      "Epoch 181/300:\n",
      "Training Loss: 0.0623328\n",
      "Validation Loss: 0.0650456\n"
     ]
    },
    {
     "name": "stderr",
     "output_type": "stream",
     "text": [
      " 61%|██████▏   | 184/300 [07:38<04:49,  2.49s/it]"
     ]
    },
    {
     "name": "stdout",
     "output_type": "stream",
     "text": [
      "Early stopping triggered after 185 epochs\n",
      "Best validation loss is 0.0649136798777457\n",
      "Model and preprocessing saved to models/model_Trf_test_v4.pkl\n"
     ]
    },
    {
     "name": "stderr",
     "output_type": "stream",
     "text": [
      "\n"
     ]
    }
   ],
   "source": [
    "hyperparameter_configs = [\n",
    "    {\n",
    "        'test_id': 'Trf_test_v4',\n",
    "        'hidden_dims': [32, 1, 2, 128],\n",
    "        'dropout_rate': 0.0\n",
    "    },\n",
    "]\n",
    "\n",
    "for config in hyperparameter_configs:\n",
    "    model = CompressionNN(\n",
    "        input_dim=train_loader.dataset.tensors[0].shape[1],\n",
    "        output_dim=train_loader.dataset.tensors[1].shape[1],\n",
    "        test_id=config['test_id'],\n",
    "        hidden_dims=config['hidden_dims'],\n",
    "        dropout_rate=config['dropout_rate'],\n",
    "        output_act= torch.nn.Softplus(),\n",
    "        arch_name = 'Transformer'\n",
    "    )\n",
    "    \n",
    "    model.zca = zca\n",
    "    train_losses, val_losses = model.fit(\n",
    "        train_loader=train_loader,\n",
    "        val_loader=val_loader,\n",
    "        epochs=NUM_EPOCH,\n",
    "        early_stopping_patience=10,\n",
    "        loss_fun = torch.nn.L1Loss()\n",
    "    )"
   ]
  },
  {
   "cell_type": "code",
   "execution_count": 68,
   "id": "a60ded54-8bb2-4045-837e-323401e7dc4a",
   "metadata": {
    "tags": []
   },
   "outputs": [
    {
     "name": "stdout",
     "output_type": "stream",
     "text": [
      "Transformers Architectures: (note the difference with MLP in hidden-dims)\n",
      "d_model (Model dimension) =  16\n",
      "num_heads (Number of attention heads) =  1\n",
      "num_layers (Number of transformer blocks) =  2\n",
      "d_ff (Feed-forward network dimension) =  128\n"
     ]
    },
    {
     "name": "stderr",
     "output_type": "stream",
     "text": [
      "  0%|          | 1/300 [00:02<11:54,  2.39s/it]"
     ]
    },
    {
     "name": "stdout",
     "output_type": "stream",
     "text": [
      "Epoch 1/300:\n",
      "Training Loss: 0.206930\n",
      "Validation Loss: 0.211118\n"
     ]
    },
    {
     "name": "stderr",
     "output_type": "stream",
     "text": [
      " 17%|█▋        | 51/300 [02:03<09:58,  2.40s/it]"
     ]
    },
    {
     "name": "stdout",
     "output_type": "stream",
     "text": [
      "Epoch 51/300:\n",
      "Training Loss: 0.101879\n",
      "Validation Loss: 0.105842\n"
     ]
    },
    {
     "name": "stderr",
     "output_type": "stream",
     "text": [
      " 34%|███▎      | 101/300 [04:03<07:53,  2.38s/it]"
     ]
    },
    {
     "name": "stdout",
     "output_type": "stream",
     "text": [
      "Epoch 101/300:\n",
      "Training Loss: 0.098060\n",
      "Validation Loss: 0.101584\n"
     ]
    },
    {
     "name": "stderr",
     "output_type": "stream",
     "text": [
      " 55%|█████▌    | 166/300 [06:43<05:47,  2.59s/it]"
     ]
    },
    {
     "name": "stdout",
     "output_type": "stream",
     "text": [
      "Epoch 166/300:\n",
      "Training Loss: 0.0964327\n",
      "Validation Loss: 0.1005149\n"
     ]
    },
    {
     "name": "stderr",
     "output_type": "stream",
     "text": [
      " 58%|█████▊    | 173/300 [07:03<05:10,  2.45s/it]"
     ]
    },
    {
     "name": "stdout",
     "output_type": "stream",
     "text": [
      "Early stopping triggered after 174 epochs\n",
      "Best validation loss is 0.10047682760090663\n",
      "Model and preprocessing saved to models/model_Trf_test_v5.pkl\n"
     ]
    },
    {
     "name": "stderr",
     "output_type": "stream",
     "text": [
      "\n"
     ]
    }
   ],
   "source": [
    "hyperparameter_configs = [\n",
    "    {\n",
    "        'test_id': 'Trf_test_v5',\n",
    "        'hidden_dims': [16, 1, 2, 128],\n",
    "        'dropout_rate': 0.0\n",
    "    },\n",
    "]\n",
    "\n",
    "for config in hyperparameter_configs:\n",
    "    model = CompressionNN(\n",
    "        input_dim=train_loader.dataset.tensors[0].shape[1],\n",
    "        output_dim=train_loader.dataset.tensors[1].shape[1],\n",
    "        test_id=config['test_id'],\n",
    "        hidden_dims=config['hidden_dims'],\n",
    "        dropout_rate=config['dropout_rate'],\n",
    "        output_act= torch.nn.Softplus(),\n",
    "        arch_name = 'Transformer'\n",
    "    )\n",
    "    \n",
    "    model.zca = zca\n",
    "    train_losses, val_losses = model.fit(\n",
    "        train_loader=train_loader,\n",
    "        val_loader=val_loader,\n",
    "        epochs=NUM_EPOCH,\n",
    "        early_stopping_patience=10,\n",
    "        loss_fun = torch.nn.L1Loss()\n",
    "    )"
   ]
  },
  {
   "cell_type": "code",
   "execution_count": 81,
   "id": "e0d0b24b-9375-4f3a-9f9c-488b24901111",
   "metadata": {
    "tags": []
   },
   "outputs": [
    {
     "name": "stdout",
     "output_type": "stream",
     "text": [
      "Transformers Architectures: (note the difference with MLP in hidden-dims)\n",
      "d_model (Model dimension) =  32\n",
      "num_heads (Number of attention heads) =  1\n",
      "num_layers (Number of transformer blocks) =  2\n",
      "d_ff (Feed-forward network dimension) =  128\n"
     ]
    },
    {
     "name": "stderr",
     "output_type": "stream",
     "text": [
      "  0%|          | 1/300 [00:02<12:04,  2.42s/it]"
     ]
    },
    {
     "name": "stdout",
     "output_type": "stream",
     "text": [
      "Epoch 1/300:\n",
      "Training Loss: 0.207952\n",
      "Validation Loss: 0.212090\n"
     ]
    },
    {
     "name": "stderr",
     "output_type": "stream",
     "text": [
      " 17%|█▋        | 51/300 [02:05<10:00,  2.41s/it]"
     ]
    },
    {
     "name": "stdout",
     "output_type": "stream",
     "text": [
      "Epoch 51/300:\n",
      "Training Loss: 0.101834\n",
      "Validation Loss: 0.100333\n"
     ]
    },
    {
     "name": "stderr",
     "output_type": "stream",
     "text": [
      " 34%|███▎      | 101/300 [04:05<07:52,  2.38s/it]"
     ]
    },
    {
     "name": "stdout",
     "output_type": "stream",
     "text": [
      "Epoch 101/300:\n",
      "Training Loss: 0.075421\n",
      "Validation Loss: 0.073812\n"
     ]
    },
    {
     "name": "stderr",
     "output_type": "stream",
     "text": [
      " 54%|█████▎    | 161/300 [06:34<05:40,  2.45s/it]\n"
     ]
    },
    {
     "name": "stdout",
     "output_type": "stream",
     "text": [
      "Early stopping triggered after 162 epochs\n",
      "Best validation loss is 0.06622000623109012\n",
      "Model and preprocessing saved to models/model_Trf_test_v6.pkl\n",
      "Transformers Architectures: (note the difference with MLP in hidden-dims)\n",
      "d_model (Model dimension) =  32\n",
      "num_heads (Number of attention heads) =  1\n",
      "num_layers (Number of transformer blocks) =  4\n",
      "d_ff (Feed-forward network dimension) =  128\n"
     ]
    },
    {
     "name": "stderr",
     "output_type": "stream",
     "text": [
      "  0%|          | 1/300 [00:04<20:22,  4.09s/it]"
     ]
    },
    {
     "name": "stdout",
     "output_type": "stream",
     "text": [
      "Epoch 1/300:\n",
      "Training Loss: 0.208651\n",
      "Validation Loss: 0.207199\n"
     ]
    },
    {
     "name": "stderr",
     "output_type": "stream",
     "text": [
      " 17%|█▋        | 51/300 [03:30<17:04,  4.12s/it]"
     ]
    },
    {
     "name": "stdout",
     "output_type": "stream",
     "text": [
      "Epoch 51/300:\n",
      "Training Loss: 0.154572\n",
      "Validation Loss: 0.156017\n"
     ]
    },
    {
     "name": "stderr",
     "output_type": "stream",
     "text": [
      " 34%|███▎      | 101/300 [06:56<13:34,  4.09s/it]"
     ]
    },
    {
     "name": "stdout",
     "output_type": "stream",
     "text": [
      "Epoch 101/300:\n",
      "Training Loss: 0.152060\n",
      "Validation Loss: 0.152848\n"
     ]
    },
    {
     "name": "stderr",
     "output_type": "stream",
     "text": [
      " 55%|█████▌    | 166/300 [11:28<09:23,  4.20s/it]"
     ]
    },
    {
     "name": "stdout",
     "output_type": "stream",
     "text": [
      "Epoch 166/300:\n",
      "Training Loss: 0.0992793\n",
      "Validation Loss: 0.1013299\n"
     ]
    },
    {
     "name": "stderr",
     "output_type": "stream",
     "text": [
      " 55%|█████▌    | 166/300 [11:32<09:19,  4.17s/it]"
     ]
    },
    {
     "name": "stdout",
     "output_type": "stream",
     "text": [
      "Early stopping triggered after 167 epochs\n",
      "Best validation loss is 0.10071053458698864\n",
      "Model and preprocessing saved to models/model_Trf_test_v7.pkl\n"
     ]
    },
    {
     "name": "stderr",
     "output_type": "stream",
     "text": [
      "\n"
     ]
    }
   ],
   "source": [
    "hyperparameter_configs = [\n",
    "    {\n",
    "        'test_id': 'Trf_test_v6',\n",
    "        'hidden_dims': [32, 1, 2, 128],\n",
    "        'dropout_rate': 0.0\n",
    "    },\n",
    "    \n",
    "    {\n",
    "        'test_id': 'Trf_test_v7',\n",
    "        'hidden_dims': [32, 1, 4, 128],\n",
    "        'dropout_rate': 0.0\n",
    "    },\n",
    "    \n",
    "]\n",
    "\n",
    "for config in hyperparameter_configs:\n",
    "    model = CompressionNN(\n",
    "        input_dim=train_loader.dataset.tensors[0].shape[1],\n",
    "        output_dim=train_loader.dataset.tensors[1].shape[1],\n",
    "        test_id=config['test_id'],\n",
    "        hidden_dims=config['hidden_dims'],\n",
    "        dropout_rate=config['dropout_rate'],\n",
    "        output_act= torch.nn.Softplus(),\n",
    "        arch_name = 'Transformer'\n",
    "    )\n",
    "    \n",
    "    model.zca = zca\n",
    "    train_losses, val_losses = model.fit(\n",
    "        train_loader=train_loader,\n",
    "        val_loader=val_loader,\n",
    "        epochs=NUM_EPOCH,\n",
    "        early_stopping_patience=10,\n",
    "        loss_fun = torch.nn.L1Loss()\n",
    "    )"
   ]
  },
  {
   "cell_type": "markdown",
   "id": "ba2d789b-bc19-4baf-a5e4-c25d325736f9",
   "metadata": {},
   "source": [
    "# plot validations"
   ]
  },
  {
   "cell_type": "code",
   "execution_count": 82,
   "id": "12dcc9ef-66cf-4d7d-8a74-d44e185f30c7",
   "metadata": {
    "tags": []
   },
   "outputs": [],
   "source": [
    "from compression_nn.utils import plot_test_error"
   ]
  },
  {
   "cell_type": "code",
   "execution_count": 83,
   "id": "00062aba-2ffc-46e4-aeaa-03f2608a8a87",
   "metadata": {
    "tags": []
   },
   "outputs": [],
   "source": [
    "def plot_test_error_all_param_TEST(model, test_loader, n_params, label_normalizer=None, device='cuda', output=False, out_name='test', Y_min=0, Y_max=1, color='steelblue'):\n",
    "\n",
    "    g=range(n_params)\n",
    "\n",
    "    test_loss1, test_loss2 = torch.zeros(len(g)).to(device), torch.zeros(len(g)).to(device)\n",
    "    points = 0\n",
    "\n",
    "    ## Model performance metrics on test set\n",
    "    num_maps=test_loader.dataset.tensors[0].shape[0]\n",
    "\n",
    "    # define the arrays containing the value of the parameters\n",
    "    params_true = np.zeros((num_maps,len(g)), dtype=np.float32)\n",
    "    params_NN   = np.zeros((num_maps,len(g)), dtype=np.float32)\n",
    "    errors_NN   = np.zeros((num_maps,len(g)), dtype=np.float32)\n",
    "\n",
    "    # model.eval()\n",
    "    for x, y in test_loader:\n",
    "        with torch.no_grad():\n",
    "            bs    = x.shape[0]         #batch size\n",
    "            if x.dtype == torch.float64:\n",
    "                x = x.float()\n",
    "            x     = x.to(device)       #send data to device\n",
    "            y     = y.to(device)  #send data to device\n",
    "            p     = model.predict(x)           #prediction for mean and variance\n",
    "            y_NN  = p           #prediction for mean\n",
    "\n",
    "            # save results to their corresponding arrays\n",
    "            params_true[points:points+x.shape[0]] = y.cpu().numpy()\n",
    "            if isinstance(y_NN, torch.Tensor):\n",
    "                y_NN = y_NN.cpu().numpy()\n",
    "            params_NN[points:points+x.shape[0]]   = y_NN\n",
    "\n",
    "            points    += x.shape[0]\n",
    "            \n",
    "    # inverse-normalization if needed\n",
    "    if label_normalizer is not None:\n",
    "        params_NN   = label_normalizer.inverse_transform(params_NN)\n",
    "\n",
    "    test_error = 100*np.mean(np.sqrt((params_true - params_NN)**2)/params_true,axis=0)\n",
    "    \n",
    "    RMSE = np.sqrt(np.mean((params_true - params_NN)**2,axis=0))\n",
    "    RMSE_P = RMSE*100\n",
    "    params_true_mean = np.mean(params_true)\n",
    "    tmp = np.mean((params_true - params_true_mean)**2, axis=0)\n",
    "    R2 = 1 - (RMSE)**2 / tmp\n",
    "    # print('Error Omega_m = %.3f'%test_error[0])\n",
    "    print(r' RMSE = %.3f'%RMSE[0])\n",
    "    print(r' $R^2$ = %.3f'%R2[0])\n",
    "    print('Error S_8 = %.3f'%test_error[0])\n",
    "\n",
    "\n",
    "    # KZ: let me first assume n_params is even \n",
    "    f, axarr = plt.subplots(1, 3, figsize=(20,10))\n",
    "    \n",
    "    for i in range(n_params):\n",
    "        # if i%2==0:\n",
    "        row_idx = i\n",
    "        print('test', i)\n",
    "        axarr[row_idx].plot(np.linspace(min(params_true[:,i]),max(params_true[:,i]),100),np.linspace(min(params_true[:,i]),max(params_true[:,i]),100),color=\"black\")\n",
    "\n",
    "        axarr[row_idx].plot(params_true[:,i],params_NN[:,i],marker=\"o\",ls=\"none\",markersize=2, color=color)\n",
    "        axarr[row_idx].set_xlabel(r\"True param \"+str(i))\n",
    "        axarr[row_idx].set_ylabel(r\"Predicted param \"+ str(i))\n",
    "\n",
    "        axarr[row_idx].text(0.08,0.9,r\"RMSE = %.3f %% \" % RMSE_P[i],fontsize=12,transform=axarr[row_idx].transAxes)\n",
    "        axarr[row_idx].text(0.08,0.82,r\"$R^2$ = %.3f\" % R2[i],fontsize=12,transform=axarr[row_idx].transAxes)\n",
    "\n",
    "#         else:\n",
    "#             row_idx = i//2\n",
    "            \n",
    "#             axarr[row_idx,1].plot(np.linspace(min(params_true[:,i]),max(params_true[:,i]),100),np.linspace(min(params_true[:,i]),max(params_true[:,i]),100),color=\"black\")\n",
    "\n",
    "#             axarr[row_idx,1].plot(params_true[:,i],params_NN[:,i],marker=\"o\",ls=\"none\",markersize=2, color=color)\n",
    "#             axarr[row_idx,1].set_xlabel(r\"True param \"+str(i))\n",
    "#             axarr[row_idx,1].set_ylabel(r\"Predicted param \"+ str(i))\n",
    "\n",
    "#             axarr[row_idx,1].text(0.08,0.9,r\"RMSE = %.3f %% \" % RMSE_P[i],fontsize=12,transform=axarr[row_idx,1].transAxes)\n",
    "#             axarr[row_idx,1].text(0.08,0.82,r\"$R^2$ = %.3f\" % R2[i],fontsize=12,transform=axarr[row_idx,1].transAxes)\n",
    "            \n",
    "    if output:\n",
    "        f.savefig('./output/'+out_name+'.pdf', dpi=300, format='pdf')\n",
    "\n",
    "        # Also save for LFI later\n",
    "        info = dict()\n",
    "        info['params'] = params_true\n",
    "        info['compressed_DV'] = params_NN\n",
    "        np.save('./output/'+out_name+'_compressed_dv',info)"
   ]
  },
  {
   "cell_type": "code",
   "execution_count": null,
   "id": "24251fe1-6ec3-42b6-adad-1272683bd20b",
   "metadata": {},
   "outputs": [
    {
     "name": "stdout",
     "output_type": "stream",
     "text": [
      "Transformers Architectures: (note the difference with MLP in hidden-dims)\n",
      "d_model (Model dimension) =  32\n",
      "num_heads (Number of attention heads) =  1\n",
      "num_layers (Number of transformer blocks) =  2\n",
      "d_ff (Feed-forward network dimension) =  128\n"
     ]
    }
   ],
   "source": [
    "loaded_model = CompressionNN.load('Trf_test_v4')\n",
    "loaded_model.model.to('cpu')\n",
    "\n",
    "plot_test_error_all_param_TEST(loaded_model, test_loader, n_params=3, label_normalizer=label_normalizer, device='cpu', output=False)\n"
   ]
  },
  {
   "cell_type": "code",
   "execution_count": 50,
   "id": "d472838a-2bfa-4de1-8025-68828b8d3248",
   "metadata": {
    "tags": []
   },
   "outputs": [
    {
     "name": "stdout",
     "output_type": "stream",
     "text": [
      "torch.Size([8187, 608])\n"
     ]
    }
   ],
   "source": [
    "test_full_dv = test_loader.dataset.tensors[0]\n",
    "print(test_full_dv.shape)"
   ]
  },
  {
   "cell_type": "code",
   "execution_count": 51,
   "id": "1d2680ac-27cf-4d58-89c7-d806840e78d4",
   "metadata": {
    "tags": []
   },
   "outputs": [],
   "source": [
    "compressed_dv_semi_ae = []\n",
    "for i in range(test_full_dv.shape[0]):\n",
    "    compressed_dv_semi_ae.append(loaded_model.get_last_hidden_layer(test_full_dv[i].reshape((1,-1))))\n",
    "\n",
    "compressed_dv_semi_ae = np.array(compressed_dv_semi_ae)"
   ]
  },
  {
   "cell_type": "code",
   "execution_count": 52,
   "id": "3a48622f-3209-4338-9acf-9fb4501f8585",
   "metadata": {
    "tags": []
   },
   "outputs": [
    {
     "data": {
      "text/plain": [
       "(8187, 1, 32)"
      ]
     },
     "execution_count": 52,
     "metadata": {},
     "output_type": "execute_result"
    }
   ],
   "source": [
    "compressed_dv_semi_ae.shape"
   ]
  },
  {
   "cell_type": "code",
   "execution_count": 53,
   "id": "01611e60-5ecf-402e-950d-70f45812064c",
   "metadata": {
    "tags": []
   },
   "outputs": [
    {
     "data": {
      "text/plain": [
       "<matplotlib.legend.Legend at 0x7f2da1ff2f10>"
      ]
     },
     "execution_count": 53,
     "metadata": {},
     "output_type": "execute_result"
    },
    {
     "data": {
      "image/png": "[encoded data removed]",
      "text/plain": [
       "<Figure size 640x480 with 1 Axes>"
      ]
     },
     "metadata": {},
     "output_type": "display_data"
    }
   ],
   "source": [
    "for i in [1,5,20,10]:\n",
    "    plt.plot(compressed_dv_semi_ae[i][0], 'x-', label='param'+str(test_loader.dataset.tensors[1][i]))\n",
    "plt.legend()"
   ]
  },
  {
   "cell_type": "markdown",
   "id": "481ec272-a6f0-4a2f-9633-80ca04e8599b",
   "metadata": {},
   "source": [
    "# Test at fiducial cosmology"
   ]
  },
  {
   "cell_type": "code",
   "execution_count": 61,
   "id": "cdea4d8e-b11e-42c3-a029-92d2393cd635",
   "metadata": {
    "tags": []
   },
   "outputs": [],
   "source": [
    "derivatives_dict = np.load('/global/cfs/cdirs/des/mgatti/CMB_lensing/DV/SBI_forecast/MOPED_derivatives.npy',allow_pickle=True).item()\n",
    "\n",
    "dv_set_fid = derivatives_dict['WL_23_WPH_WCMBL_CMBL']['cov'][:,indict2['WL_23_WPH_short_CMBWL'] ]\n",
    "\n",
    "# dv_compressed_fid = loaded_model.predict(dv_set_fid)\n",
    "# dv_compressed_fid = label_normalizer.inverse_transform(dv_compressed_fid)"
   ]
  },
  {
   "cell_type": "code",
   "execution_count": 62,
   "id": "03003aa2-2e0e-4e90-8f81-c911db28eb3a",
   "metadata": {
    "tags": []
   },
   "outputs": [],
   "source": [
    "# plt.scatter(dv_compressed_fid[:,0], dv_compressed_fid[:,1])"
   ]
  },
  {
   "cell_type": "code",
   "execution_count": 63,
   "id": "78c39f34-e072-4398-9189-fe9ad5c35c37",
   "metadata": {
    "tags": []
   },
   "outputs": [],
   "source": [
    "# target_compressed_dv = np.mean(dv_compressed_fid, axis=0)"
   ]
  },
  {
   "cell_type": "code",
   "execution_count": 64,
   "id": "86393d5e-16ed-425b-8265-6b5481c911de",
   "metadata": {
    "tags": []
   },
   "outputs": [],
   "source": [
    "dv_compressed_fid_ae = []\n",
    "for i in range(dv_set_fid.shape[0]):\n",
    "    dv_compressed_fid_ae.append(loaded_model.get_last_hidden_layer(dv_set_fid[i].reshape((1,-1))))\n",
    "dv_compressed_fid_ae = np.array(dv_compressed_fid_ae)\n",
    "\n",
    "\n",
    "dv_compressed_fid_ae = np.mean(dv_compressed_fid_ae,axis=0)"
   ]
  },
  {
   "cell_type": "code",
   "execution_count": 65,
   "id": "d135c90e-8ead-460f-af37-4258693c20fa",
   "metadata": {
    "tags": []
   },
   "outputs": [
    {
     "data": {
      "text/plain": [
       "<matplotlib.legend.Legend at 0x7f2d12a4cac0>"
      ]
     },
     "execution_count": 65,
     "metadata": {},
     "output_type": "execute_result"
    },
    {
     "data": {
      "image/png": "[encoded data removed]",
      "text/plain": [
       "<Figure size 640x480 with 1 Axes>"
      ]
     },
     "metadata": {},
     "output_type": "display_data"
    }
   ],
   "source": [
    "plt.plot(dv_compressed_fid_ae[0],c='black',lw=2)\n",
    "\n",
    "for i in [1,5,20,10]:\n",
    "    plt.plot(compressed_dv_semi_ae[i][0], 'x-', label='param'+str(test_loader.dataset.tensors[1][i]))\n",
    "plt.legend()"
   ]
  },
  {
   "cell_type": "code",
   "execution_count": 66,
   "id": "48a0431a-79a4-4146-b188-2af85362254b",
   "metadata": {
    "tags": []
   },
   "outputs": [
    {
     "data": {
      "text/plain": [
       "((8187, 1, 32), (1, 32))"
      ]
     },
     "execution_count": 66,
     "metadata": {},
     "output_type": "execute_result"
    }
   ],
   "source": [
    "compressed_dv_semi_ae.shape, dv_compressed_fid_ae.shape"
   ]
  },
  {
   "cell_type": "code",
   "execution_count": 67,
   "id": "0b64b1b0-91dc-4170-93a8-a57069cf20f5",
   "metadata": {
    "tags": []
   },
   "outputs": [],
   "source": [
    "np.save('./output/sims_compressed_TrF_v1', compressed_dv_semi_ae.reshape((compressed_dv_semi_ae.shape[0], compressed_dv_semi_ae.shape[-1])))\n",
    "np.save('./output/fid_compressed_TrF_v1', dv_compressed_fid_ae.flatten())"
   ]
  },
  {
   "cell_type": "code",
   "execution_count": null,
   "id": "c0b3ec69-f70f-4f10-995c-c456aae9261b",
   "metadata": {},
   "outputs": [],
   "source": []
  },
  {
   "cell_type": "code",
   "execution_count": null,
   "id": "7be32f1d-817f-41cd-8815-4e4140f986c3",
   "metadata": {},
   "outputs": [],
   "source": []
  },
  {
   "cell_type": "code",
   "execution_count": null,
   "id": "317445c7-cee4-4ca6-ade1-4e991f9843f7",
   "metadata": {},
   "outputs": [],
   "source": []
  }
 ],
 "metadata": {
  "kernelspec": {
   "display_name": "py39",
   "language": "python",
   "name": "py39"
  },
  "language_info": {
   "codemirror_mode": {
    "name": "ipython",
    "version": 3
   },
   "file_extension": ".py",
   "mimetype": "text/x-python",
   "name": "python",
   "nbconvert_exporter": "python",
   "pygments_lexer": "ipython3",
   "version": "3.9.19"
  }
 },
 "nbformat": 4,
 "nbformat_minor": 5
}
